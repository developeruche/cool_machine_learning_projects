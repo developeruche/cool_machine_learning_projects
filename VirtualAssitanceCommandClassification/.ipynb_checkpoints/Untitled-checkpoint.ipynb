{
 "cells": [
  {
   "cell_type": "code",
   "execution_count": 1,
   "metadata": {},
   "outputs": [],
   "source": [
    "# Importing Lib\n",
    "import pandas as pd"
   ]
  },
  {
   "cell_type": "code",
   "execution_count": 2,
   "metadata": {},
   "outputs": [
    {
     "data": {
      "text/html": [
       "<div>\n",
       "<style scoped>\n",
       "    .dataframe tbody tr th:only-of-type {\n",
       "        vertical-align: middle;\n",
       "    }\n",
       "\n",
       "    .dataframe tbody tr th {\n",
       "        vertical-align: top;\n",
       "    }\n",
       "\n",
       "    .dataframe thead th {\n",
       "        text-align: right;\n",
       "    }\n",
       "</style>\n",
       "<table border=\"1\" class=\"dataframe\">\n",
       "  <thead>\n",
       "    <tr style=\"text-align: right;\">\n",
       "      <th></th>\n",
       "      <th>voice_command</th>\n",
       "      <th>command_id</th>\n",
       "    </tr>\n",
       "  </thead>\n",
       "  <tbody>\n",
       "    <tr>\n",
       "      <th>0</th>\n",
       "      <td>how are you doing olivia</td>\n",
       "      <td>1</td>\n",
       "    </tr>\n",
       "    <tr>\n",
       "      <th>1</th>\n",
       "      <td>how is it going</td>\n",
       "      <td>1</td>\n",
       "    </tr>\n",
       "    <tr>\n",
       "      <th>2</th>\n",
       "      <td>whats up</td>\n",
       "      <td>1</td>\n",
       "    </tr>\n",
       "    <tr>\n",
       "      <th>3</th>\n",
       "      <td>olivia how are you</td>\n",
       "      <td>1</td>\n",
       "    </tr>\n",
       "    <tr>\n",
       "      <th>4</th>\n",
       "      <td>olivia what is up</td>\n",
       "      <td>1</td>\n",
       "    </tr>\n",
       "  </tbody>\n",
       "</table>\n",
       "</div>"
      ],
      "text/plain": [
       "              voice_command  command_id\n",
       "0  how are you doing olivia           1\n",
       "1           how is it going           1\n",
       "2                  whats up           1\n",
       "3        olivia how are you           1\n",
       "4         olivia what is up           1"
      ]
     },
     "execution_count": 2,
     "metadata": {},
     "output_type": "execute_result"
    }
   ],
   "source": [
    "# Importing the dataset (From the current directory)\n",
    "file_name = \"olivia_commands.csv\"\n",
    "\n",
    "df = pd.read_csv(file_name)\n",
    "\n",
    "df.head()\n",
    "\n"
   ]
  },
  {
   "cell_type": "markdown",
   "metadata": {},
   "source": [
    "##### Making use of bag of wards and text vectorization (I Think the vectorization should be done indivially with the feature but i would love to try out the combination and then see diffrence in accuracy)\n"
   ]
  },
  {
   "cell_type": "code",
   "execution_count": 3,
   "metadata": {},
   "outputs": [],
   "source": [
    "# Spliting the training and testing data (I  would prefer working with a numpy array in the case)\n",
    "X = df.iloc[1:-1, 0].values\n",
    "y = df.iloc[1:-1, -1].values\n"
   ]
  },
  {
   "cell_type": "code",
   "execution_count": 4,
   "metadata": {},
   "outputs": [],
   "source": [
    "# Splitting the dataset into the Training set and Test set\n",
    "from sklearn.model_selection import train_test_split\n",
    "X_train, X_test, y_train, y_test = train_test_split(X, y, test_size = 0.25, random_state = 0)"
   ]
  },
  {
   "cell_type": "code",
   "execution_count": 5,
   "metadata": {},
   "outputs": [],
   "source": [
    "# vectorization of the words into numerical representaion\n",
    "from sklearn.feature_extraction.text import TfidfVectorizer\n",
    "\n",
    "vectorizer = TfidfVectorizer(decode_error='ignore')\n",
    "X_train_vector = vectorizer.fit_transform(X_train)\n",
    "X_test_vector = vectorizer.transform(X_test)\n",
    "\n"
   ]
  },
  {
   "cell_type": "code",
   "execution_count": 6,
   "metadata": {},
   "outputs": [],
   "source": [
    "print(X_train_vector)"
   ]
  },
  {
   "cell_type": "markdown",
   "metadata": {},
   "source": [
    "### Classification"
   ]
  },
  {
   "cell_type": "markdown",
   "metadata": {},
   "source": [
    "#### Using the SVM classifer\n"
   ]
  },
  {
   "cell_type": "code",
   "execution_count": 7,
   "metadata": {},
   "outputs": [
    {
     "data": {
      "text/plain": [
       "SVC()"
      ]
     },
     "execution_count": 7,
     "metadata": {},
     "output_type": "execute_result"
    }
   ],
   "source": [
    "from sklearn.svm import SVC\n",
    "\n",
    "svm_clf = SVC()\n",
    "\n",
    "# Traing the model\n",
    "svm_clf.fit(X_train_vector, y_train)"
   ]
  },
  {
   "cell_type": "code",
   "execution_count": 8,
   "metadata": {},
   "outputs": [
    {
     "name": "stdout",
     "output_type": "stream",
     "text": [
      "what are your special functions\n",
      "  (0, 85)\t0.34351460327737315\n",
      "  (0, 80)\t0.27784139702426514\n",
      "  (0, 61)\t0.5923087332226907\n",
      "  (0, 21)\t0.5253174951190667\n",
      "  (0, 2)\t0.4219167800701394\n"
     ]
    },
    {
     "data": {
      "text/plain": [
       "array([6], dtype=int64)"
      ]
     },
     "execution_count": 8,
     "metadata": {},
     "output_type": "execute_result"
    }
   ],
   "source": [
    "print(X_test[0])\n",
    "print(X_test_vector[0])\n",
    "# Predicting the test data\n",
    "pred = svm_clf.predict(X_test_vector[0])\n",
    "pred"
   ]
  },
  {
   "cell_type": "code",
   "execution_count": 9,
   "metadata": {},
   "outputs": [
    {
     "data": {
      "text/plain": [
       "array([1., 1., 1., 1., 1., 1., 1., 1.])"
      ]
     },
     "execution_count": 9,
     "metadata": {},
     "output_type": "execute_result"
    }
   ],
   "source": [
    "# Evalutateing\n",
    "svm_clf.score(X_test_vector, y_test)\n",
    "\n",
    "# Using the fi metric for Evaluation\n",
    "from sklearn.metrics import f1_score\n",
    "\n",
    "f1_score(y_test, svm_clf.predict(X_test_vector), average=None)\n"
   ]
  },
  {
   "cell_type": "markdown",
   "metadata": {},
   "source": [
    "# From what i and seeing here this model is perfect \n",
    "#### But before concludeing i want to create a function for testing this model with real virtual machine commands"
   ]
  },
  {
   "cell_type": "code",
   "execution_count": 10,
   "metadata": {},
   "outputs": [],
   "source": [
    "class AIUtils:\n",
    "    def __init__(self):\n",
    "        self.HOW_ARE_YOU_DOING = \"HOW ARE YOU DOING\"\n",
    "        self.WHAT_IS_THE_TIME = \"WHAT IS THE TIME\"\n",
    "        self.WHAT_IS_THE_WEATHER_UPDATE = \"WHAT IS THE WEATHER UPDATE\"\n",
    "        self.WHO_ARE_YOU = 'WHO ARE YOU'\n",
    "        self.WHO_IS_DEVELOPER_UCHE = \"WHO IS DEVELOPER UCHE\"\n",
    "        self.DESCRIBE_YOURSELF = 'DESCRIBE YOURSELF'\n",
    "        self.SEND_EMAIL = 'SEND EMAIL'\n",
    "        self.PLAY_MUSIC = 'PLAY MUSIC'\n",
    "        \n",
    "    def report_category(self, dig):\n",
    "        if dig == 1:\n",
    "            return self.HOW_ARE_YOU_DOING\n",
    "        elif dig == 2:\n",
    "            return self.WHAT_IS_THE_TIME\n",
    "        elif dig == 3:\n",
    "            return self.WHAT_IS_THE_WEATHER_UPDATE\n",
    "        elif dig == 4:\n",
    "            return self.WHO_ARE_YOU\n",
    "        elif dig == 5:\n",
    "            return self.WHO_IS_DEVELOPER_UCHE\n",
    "        elif dig == 6:\n",
    "            return self.DESCRIBE_YOURSELF\n",
    "        elif dig == 7:\n",
    "            return self.SEND_EMAIL\n",
    "        elif dig == 8:\n",
    "            return self.PLAY_MUSIC\n",
    "        else:\n",
    "            return print(\"Category does not exist\")"
   ]
  },
  {
   "cell_type": "code",
   "execution_count": null,
   "metadata": {},
   "outputs": [],
   "source": []
  }
 ],
 "metadata": {
  "kernelspec": {
   "display_name": "Python 3",
   "language": "python",
   "name": "python3"
  },
  "language_info": {
   "codemirror_mode": {
    "name": "ipython",
    "version": 3
   },
   "file_extension": ".py",
   "mimetype": "text/x-python",
   "name": "python",
   "nbconvert_exporter": "python",
   "pygments_lexer": "ipython3",
   "version": "3.8.5"
  }
 },
 "nbformat": 4,
 "nbformat_minor": 4
}
