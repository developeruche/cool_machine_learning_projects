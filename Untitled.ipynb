{
 "cells": [
  {
   "cell_type": "code",
   "execution_count": 1,
   "metadata": {},
   "outputs": [],
   "source": [
    "from PIL import Image\n",
    "import mnist\n",
    "import numpy as np\n",
    "from sklearn.neural_network import MLPClassifier\n",
    "from sklearn.metrics import confusion_matrix"
   ]
  },
  {
   "cell_type": "code",
   "execution_count": 6,
   "metadata": {},
   "outputs": [],
   "source": [
    "# Importing trainning data\n",
    "(X_train, y_train), (X_test, y_test) = mnist.load_data() "
   ]
  },
  {
   "cell_type": "code",
   "execution_count": null,
   "metadata": {},
   "outputs": [],
   "source": []
  },
  {
   "cell_type": "code",
   "execution_count": null,
   "metadata": {},
   "outputs": [],
   "source": [
    "\n",
    "\n",
    "~\\anaconda3\\lib\\site-packages\\mnist\\__init__.py in download_and_parse_mnist_file(fname, target_dir, force)\n",
    "    144     fopen = gzip.open if os.path.splitext(fname)[1] == '.gz' else open\n",
    "    145     with fopen(fname, 'rb') as fd:\n",
    "--> 146         return parse_idx(fd)\n",
    "    147 \n",
    "    148 \n",
    "\n",
    "~\\anaconda3\\lib\\site-packages\\mnist\\__init__.py in parse_idx(fd)\n",
    "    109                                     fd.read(4 * num_dimensions))\n",
    "    110 \n",
    "--> 111     data = array.array(data_type, fd.read())\n",
    "    112     data.byteswap()  # looks like array.array reads data as little endian\n",
    "    113 \n",
    "tattoo.234\n",
    "~\\anaconda3\\lib\\gzip.py in read(self, size)\n",
    "    290             import errno\n",
    "    291             raise OSError(errno.EBADF, \"read() on write-only GzipFile object\")\n",
    "--> 292         return self._buffer.read(size)\n",
    "    293 \n",
    "    294     def read1(self, size=-1):\n",
    "\n",
    "~\\anaconda3\\lib\\gzip.py in read(self, size)\n",
    "    496                 break\n",
    "    497             if buf == b\"\":\n",
    "--> 498                 raise EOFError(\"Compressed file ended before the \"\n",
    "    499                                \"end-of-stream marker was reached\")\n",
    "    500 \n",
    "\n",
    "EOFError: Compressed file ended before the end-of-stream marker was reached\n"
   ]
  }
 ],
 "metadata": {
  "kernelspec": {
   "display_name": "Python 3",
   "language": "python",
   "name": "python3"
  },
  "language_info": {
   "codemirror_mode": {
    "name": "ipython",
    "version": 3
   },
   "file_extension": ".py",
   "mimetype": "text/x-python",
   "name": "python",
   "nbconvert_exporter": "python",
   "pygments_lexer": "ipython3",
   "version": "3.8.5"
  }
 },
 "nbformat": 4,
 "nbformat_minor": 4
}
